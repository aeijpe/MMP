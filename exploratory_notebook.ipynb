{
 "cells": [
  {
   "cell_type": "code",
   "execution_count": 1,
   "metadata": {},
   "outputs": [],
   "source": [
    "import numpy as np\n",
    "import csv\n",
    "import os\n",
    "import glob"
   ]
  },
  {
   "cell_type": "markdown",
   "metadata": {},
   "source": [
    "# Check tissue source site for the folds"
   ]
  },
  {
   "cell_type": "code",
   "execution_count": 18,
   "metadata": {},
   "outputs": [],
   "source": [
    "def get_tissue_source_sites(file_dir):\n",
    "    with open(file_dir, 'r') as file:\n",
    "        csv_reader = csv.DictReader(file)\n",
    "        data = [row for row in csv_reader]\n",
    "\n",
    "    tissue_ss = []\n",
    "    for item in data:\n",
    "        tissue_ss.append(item[\"tissue_source_site\"])\n",
    "\n",
    "    return tissue_ss"
   ]
  },
  {
   "cell_type": "code",
   "execution_count": null,
   "metadata": {},
   "outputs": [
    {
     "name": "stdout",
     "output_type": "stream",
     "text": [
      "TRAIN:  ['4Z', '4Z', '4Z', '4Z', '4Z', '4Z', '4Z', '4Z', '4Z', '4Z', '4Z', '4Z', '4Z', '4Z', '4Z', '4Z', 'BT', 'BT', 'BT', 'BT', 'BT', 'BT', 'BT', 'BT', 'BT', 'BT', 'BT', 'BT', 'BT', 'BT', 'BT', 'BT', 'BT', 'BT', 'C4', 'C4', 'CF', 'CF', 'CF', 'CF', 'CF', 'CF', 'CF', 'CF', 'CF', 'CF', 'CF', 'CF', 'CF', 'CF', 'CF', 'CF', 'CF', 'CF', 'CF', 'CF', 'CF', 'DK', 'DK', 'DK', 'DK', 'DK', 'DK', 'DK', 'DK', 'DK', 'DK', 'DK', 'DK', 'DK', 'DK', 'DK', 'DK', 'DK', 'DK', 'DK', 'DK', 'DK', 'DK', 'DK', 'DK', 'DK', 'DK', 'DK', 'DK', 'DK', 'DK', 'DK', 'DK', 'DK', 'DK', 'DK', 'E5', 'E5', 'E5', 'E7', 'E7', 'E7', 'E7', 'E7', 'E7', 'E7', 'E7', 'E7', 'E7', 'E7', 'E7', 'E7', 'E7', 'E7', 'E7', 'E7', 'E7', 'E7', 'E7', 'E7', 'FD', 'FD', 'FD', 'FD', 'FD', 'FD', 'FD', 'FD', 'FD', 'FD', 'FD', 'FD', 'FD', 'FD', 'FD', 'FD', 'FD', 'FD', 'FD', 'FD', 'FD', 'FD', 'FD', 'FD', 'FD', 'FD', 'FD', 'FD', 'FD', 'FD', 'FD', 'FD', 'FD', 'FD', 'FD', 'FD', 'FD', 'FD', 'FD', 'FD', 'FD', 'FD', 'FD', 'FD', 'FD', 'FD', 'FD', 'FJ', 'FJ', 'FJ', 'FJ', 'FJ', 'FJ', 'FJ', 'FJ', 'FJ', 'FJ', 'FJ', 'FJ', 'FJ', 'FJ', 'FJ', 'FT', 'FT', 'G2', 'G2', 'G2', 'G2', 'G2', 'G2', 'G2', 'G2', 'G2', 'G2', 'G2', 'G2', 'G2', 'G2', 'G2', 'G2', 'G2', 'G2', 'G2', 'G2', 'G2', 'G2', 'G2', 'G2', 'G2', 'G2', 'G2', 'G2', 'G2', 'G2', 'G2', 'G2', 'G2', 'G2', 'G2', 'G2', 'G2', 'G2', 'G2', 'G2', 'G2', 'G2', 'G2', 'G2', 'G2', 'G2', 'G2', 'G2', 'G2', 'G2', 'G2', 'G2', 'G2', 'G2', 'G2', 'G2', 'GD', 'GD', 'GD', 'GD', 'GD', 'GU', 'GU', 'GU', 'GU', 'GU', 'GU', 'GU', 'GU', 'GU', 'GU', 'GU', 'GU', 'GU', 'GU', 'GV', 'GV', 'GV', 'GV', 'GV', 'GV', 'GV', 'GV', 'GV', 'GV', 'GV', 'H4', 'H4', 'HQ', 'HQ', 'HQ', 'HQ', 'LC', 'LT', 'LT', 'MV', 'PQ', 'PQ', 'S5', 'S5', 'SY', 'SY', 'UY', 'UY', 'UY', 'UY', 'UY', 'UY', 'UY', 'UY', 'UY', 'UY', 'UY', 'UY', 'UY', 'UY', 'XF', 'XF', 'XF', 'XF', 'XF', 'XF', 'XF', 'XF', 'XF', 'XF', 'XF', 'XF', 'XF', 'XF', 'XF', 'XF', 'XF', 'XF', 'XF', 'XF', 'XF', 'XF', 'XF', 'XF', 'XF', 'XF', 'XF', 'XF', 'XF', 'XF', 'XF', 'XF', 'XF', 'XF', 'XF', 'XF', 'XF', 'XF', 'XF', 'XF', 'XF', 'XF', 'XF', 'XF', 'YC', 'YC', 'YC', 'YC', 'YF', 'YF']\n",
      "TEST:  ['2F', '2F', '2F', '2F', '2F', '2F', '2F', '2F', '2F', '5N', '5N', 'BL', 'BL', 'BL', 'BL', 'BL', 'BL', 'BL', 'BL', 'BL', 'CU', 'CU', 'CU', 'CU', 'CU', 'CU', 'GC', 'GC', 'GC', 'GC', 'GC', 'GC', 'GC', 'GC', 'GC', 'GC', 'GC', 'K4', 'K4', 'K4', 'K4', 'K4', 'K4', 'K4', 'K4', 'K4', 'K4', 'K4', 'K4', 'K4', 'ZF', 'ZF', 'ZF', 'ZF', 'ZF', 'ZF', 'ZF', 'ZF', 'ZF', 'ZF', 'ZF', 'ZF', 'ZF', 'ZF', 'ZF', 'ZF', 'ZF', 'ZF', 'ZF', 'ZF', 'ZF', 'ZF', 'ZF', 'ZF', 'ZF', 'ZF', 'ZF']\n",
      "TRAIN:  ['BT', 'BT', 'BT', 'BT', 'BT', 'BT', 'BT', 'BT', 'BT', 'BT', 'BT', 'BT', 'BT', 'BT', 'BT', 'BT', 'BT', 'BT', 'C4', 'C4', 'CF', 'CF', 'CF', 'CF', 'CF', 'CF', 'CF', 'CF', 'CF', 'CF', 'CF', 'CF', 'CF', 'CF', 'CF', 'CF', 'CF', 'CF', 'CF', 'CF', 'CF', 'DK', 'DK', 'DK', 'DK', 'DK', 'DK', 'DK', 'DK', 'DK', 'DK', 'DK', 'DK', 'DK', 'DK', 'DK', 'DK', 'DK', 'DK', 'DK', 'DK', 'DK', 'DK', 'DK', 'DK', 'DK', 'DK', 'DK', 'DK', 'DK', 'DK', 'DK', 'DK', 'DK', 'DK', 'DK', 'E7', 'E7', 'E7', 'E7', 'E7', 'E7', 'E7', 'E7', 'E7', 'E7', 'E7', 'E7', 'E7', 'E7', 'E7', 'E7', 'E7', 'E7', 'E7', 'E7', 'E7', 'FJ', 'FJ', 'FJ', 'FJ', 'FJ', 'FJ', 'FJ', 'FJ', 'FJ', 'FJ', 'FJ', 'FJ', 'FJ', 'FJ', 'FJ', 'FT', 'FT', 'G2', 'G2', 'G2', 'G2', 'G2', 'G2', 'G2', 'G2', 'G2', 'G2', 'G2', 'G2', 'G2', 'G2', 'G2', 'G2', 'G2', 'G2', 'G2', 'G2', 'G2', 'G2', 'G2', 'G2', 'G2', 'G2', 'G2', 'G2', 'G2', 'G2', 'G2', 'G2', 'G2', 'G2', 'G2', 'G2', 'G2', 'G2', 'G2', 'G2', 'G2', 'G2', 'G2', 'G2', 'G2', 'G2', 'G2', 'G2', 'G2', 'G2', 'G2', 'G2', 'G2', 'G2', 'G2', 'G2', 'GD', 'GD', 'GD', 'GD', 'GD', 'GU', 'GU', 'GU', 'GU', 'GU', 'GU', 'GU', 'GU', 'GU', 'GU', 'GU', 'GU', 'GU', 'GU', 'GV', 'GV', 'GV', 'GV', 'GV', 'GV', 'GV', 'GV', 'GV', 'GV', 'GV', 'H4', 'H4', 'LC', 'MV', 'PQ', 'PQ', 'S5', 'S5', 'SY', 'SY', 'UY', 'UY', 'UY', 'UY', 'UY', 'UY', 'UY', 'UY', 'UY', 'UY', 'UY', 'UY', 'UY', 'UY', 'XF', 'XF', 'XF', 'XF', 'XF', 'XF', 'XF', 'XF', 'XF', 'XF', 'XF', 'XF', 'XF', 'XF', 'XF', 'XF', 'XF', 'XF', 'XF', 'XF', 'XF', 'XF', 'XF', 'XF', 'XF', 'XF', 'XF', 'XF', 'XF', 'XF', 'XF', 'XF', 'XF', 'XF', 'XF', 'XF', 'XF', 'XF', 'XF', 'XF', 'XF', 'XF', 'XF', 'XF', 'YC', 'YC', 'YC', 'YC', 'YF', 'YF', '2F', '2F', '2F', '2F', '2F', '2F', '2F', '2F', '2F', '5N', '5N', 'BL', 'BL', 'BL', 'BL', 'BL', 'BL', 'BL', 'BL', 'BL', 'CU', 'CU', 'CU', 'CU', 'CU', 'CU', 'GC', 'GC', 'GC', 'GC', 'GC', 'GC', 'GC', 'GC', 'GC', 'GC', 'GC', 'K4', 'K4', 'K4', 'K4', 'K4', 'K4', 'K4', 'K4', 'K4', 'K4', 'K4', 'K4', 'K4', 'ZF', 'ZF', 'ZF', 'ZF', 'ZF', 'ZF', 'ZF', 'ZF', 'ZF', 'ZF', 'ZF', 'ZF', 'ZF', 'ZF', 'ZF', 'ZF', 'ZF', 'ZF', 'ZF', 'ZF', 'ZF', 'ZF', 'ZF', 'ZF', 'ZF', 'ZF', 'ZF']\n",
      "TEST:  ['4Z', '4Z', '4Z', '4Z', '4Z', '4Z', '4Z', '4Z', '4Z', '4Z', '4Z', '4Z', '4Z', '4Z', '4Z', '4Z', 'E5', 'E5', 'E5', 'FD', 'FD', 'FD', 'FD', 'FD', 'FD', 'FD', 'FD', 'FD', 'FD', 'FD', 'FD', 'FD', 'FD', 'FD', 'FD', 'FD', 'FD', 'FD', 'FD', 'FD', 'FD', 'FD', 'FD', 'FD', 'FD', 'FD', 'FD', 'FD', 'FD', 'FD', 'FD', 'FD', 'FD', 'FD', 'FD', 'FD', 'FD', 'FD', 'FD', 'FD', 'FD', 'FD', 'FD', 'FD', 'FD', 'FD', 'HQ', 'HQ', 'HQ', 'HQ', 'LT', 'LT']\n",
      "TRAIN:  ['4Z', '4Z', '4Z', '4Z', '4Z', '4Z', '4Z', '4Z', '4Z', '4Z', '4Z', '4Z', '4Z', '4Z', '4Z', '4Z', 'DK', 'DK', 'DK', 'DK', 'DK', 'DK', 'DK', 'DK', 'DK', 'DK', 'DK', 'DK', 'DK', 'DK', 'DK', 'DK', 'DK', 'DK', 'DK', 'DK', 'DK', 'DK', 'DK', 'DK', 'DK', 'DK', 'DK', 'DK', 'DK', 'DK', 'DK', 'DK', 'DK', 'DK', 'DK', 'E5', 'E5', 'E5', 'E7', 'E7', 'E7', 'E7', 'E7', 'E7', 'E7', 'E7', 'E7', 'E7', 'E7', 'E7', 'E7', 'E7', 'E7', 'E7', 'E7', 'E7', 'E7', 'E7', 'E7', 'FD', 'FD', 'FD', 'FD', 'FD', 'FD', 'FD', 'FD', 'FD', 'FD', 'FD', 'FD', 'FD', 'FD', 'FD', 'FD', 'FD', 'FD', 'FD', 'FD', 'FD', 'FD', 'FD', 'FD', 'FD', 'FD', 'FD', 'FD', 'FD', 'FD', 'FD', 'FD', 'FD', 'FD', 'FD', 'FD', 'FD', 'FD', 'FD', 'FD', 'FD', 'FD', 'FD', 'FD', 'FD', 'FD', 'FD', 'FJ', 'FJ', 'FJ', 'FJ', 'FJ', 'FJ', 'FJ', 'FJ', 'FJ', 'FJ', 'FJ', 'FJ', 'FJ', 'FJ', 'FJ', 'FT', 'FT', 'GD', 'GD', 'GD', 'GD', 'GD', 'GU', 'GU', 'GU', 'GU', 'GU', 'GU', 'GU', 'GU', 'GU', 'GU', 'GU', 'GU', 'GU', 'GU', 'GV', 'GV', 'GV', 'GV', 'GV', 'GV', 'GV', 'GV', 'GV', 'GV', 'GV', 'HQ', 'HQ', 'HQ', 'HQ', 'LC', 'LT', 'LT', 'MV', 'PQ', 'PQ', 'SY', 'SY', 'XF', 'XF', 'XF', 'XF', 'XF', 'XF', 'XF', 'XF', 'XF', 'XF', 'XF', 'XF', 'XF', 'XF', 'XF', 'XF', 'XF', 'XF', 'XF', 'XF', 'XF', 'XF', 'XF', 'XF', 'XF', 'XF', 'XF', 'XF', 'XF', 'XF', 'XF', 'XF', 'XF', 'XF', 'XF', 'XF', 'XF', 'XF', 'XF', 'XF', 'XF', 'XF', 'XF', 'XF', 'YF', 'YF', '2F', '2F', '2F', '2F', '2F', '2F', '2F', '2F', '2F', '5N', '5N', 'BL', 'BL', 'BL', 'BL', 'BL', 'BL', 'BL', 'BL', 'BL', 'CU', 'CU', 'CU', 'CU', 'CU', 'CU', 'GC', 'GC', 'GC', 'GC', 'GC', 'GC', 'GC', 'GC', 'GC', 'GC', 'GC', 'K4', 'K4', 'K4', 'K4', 'K4', 'K4', 'K4', 'K4', 'K4', 'K4', 'K4', 'K4', 'K4', 'ZF', 'ZF', 'ZF', 'ZF', 'ZF', 'ZF', 'ZF', 'ZF', 'ZF', 'ZF', 'ZF', 'ZF', 'ZF', 'ZF', 'ZF', 'ZF', 'ZF', 'ZF', 'ZF', 'ZF', 'ZF', 'ZF', 'ZF', 'ZF', 'ZF', 'ZF', 'ZF']\n",
      "TEST:  ['BT', 'BT', 'BT', 'BT', 'BT', 'BT', 'BT', 'BT', 'BT', 'BT', 'BT', 'BT', 'BT', 'BT', 'BT', 'BT', 'BT', 'BT', 'C4', 'C4', 'CF', 'CF', 'CF', 'CF', 'CF', 'CF', 'CF', 'CF', 'CF', 'CF', 'CF', 'CF', 'CF', 'CF', 'CF', 'CF', 'CF', 'CF', 'CF', 'CF', 'CF', 'G2', 'G2', 'G2', 'G2', 'G2', 'G2', 'G2', 'G2', 'G2', 'G2', 'G2', 'G2', 'G2', 'G2', 'G2', 'G2', 'G2', 'G2', 'G2', 'G2', 'G2', 'G2', 'G2', 'G2', 'G2', 'G2', 'G2', 'G2', 'G2', 'G2', 'G2', 'G2', 'G2', 'G2', 'G2', 'G2', 'G2', 'G2', 'G2', 'G2', 'G2', 'G2', 'G2', 'G2', 'G2', 'G2', 'G2', 'G2', 'G2', 'G2', 'G2', 'G2', 'G2', 'G2', 'G2', 'G2', 'H4', 'H4', 'S5', 'S5', 'UY', 'UY', 'UY', 'UY', 'UY', 'UY', 'UY', 'UY', 'UY', 'UY', 'UY', 'UY', 'UY', 'UY', 'YC', 'YC', 'YC', 'YC']\n",
      "TRAIN:  ['4Z', '4Z', '4Z', '4Z', '4Z', '4Z', '4Z', '4Z', '4Z', '4Z', '4Z', '4Z', '4Z', '4Z', '4Z', '4Z', 'BT', 'BT', 'BT', 'BT', 'BT', 'BT', 'BT', 'BT', 'BT', 'BT', 'BT', 'BT', 'BT', 'BT', 'BT', 'BT', 'BT', 'BT', 'C4', 'C4', 'CF', 'CF', 'CF', 'CF', 'CF', 'CF', 'CF', 'CF', 'CF', 'CF', 'CF', 'CF', 'CF', 'CF', 'CF', 'CF', 'CF', 'CF', 'CF', 'CF', 'CF', 'DK', 'DK', 'DK', 'DK', 'DK', 'DK', 'DK', 'DK', 'DK', 'DK', 'DK', 'DK', 'DK', 'DK', 'DK', 'DK', 'DK', 'DK', 'DK', 'DK', 'DK', 'DK', 'DK', 'DK', 'DK', 'DK', 'DK', 'DK', 'DK', 'DK', 'DK', 'DK', 'DK', 'DK', 'DK', 'E5', 'E5', 'E5', 'E7', 'E7', 'E7', 'E7', 'E7', 'E7', 'E7', 'E7', 'E7', 'E7', 'E7', 'E7', 'E7', 'E7', 'E7', 'E7', 'E7', 'E7', 'E7', 'E7', 'E7', 'FD', 'FD', 'FD', 'FD', 'FD', 'FD', 'FD', 'FD', 'FD', 'FD', 'FD', 'FD', 'FD', 'FD', 'FD', 'FD', 'FD', 'FD', 'FD', 'FD', 'FD', 'FD', 'FD', 'FD', 'FD', 'FD', 'FD', 'FD', 'FD', 'FD', 'FD', 'FD', 'FD', 'FD', 'FD', 'FD', 'FD', 'FD', 'FD', 'FD', 'FD', 'FD', 'FD', 'FD', 'FD', 'FD', 'FD', 'FT', 'FT', 'G2', 'G2', 'G2', 'G2', 'G2', 'G2', 'G2', 'G2', 'G2', 'G2', 'G2', 'G2', 'G2', 'G2', 'G2', 'G2', 'G2', 'G2', 'G2', 'G2', 'G2', 'G2', 'G2', 'G2', 'G2', 'G2', 'G2', 'G2', 'G2', 'G2', 'G2', 'G2', 'G2', 'G2', 'G2', 'G2', 'G2', 'G2', 'G2', 'G2', 'G2', 'G2', 'G2', 'G2', 'G2', 'G2', 'G2', 'G2', 'G2', 'G2', 'G2', 'G2', 'G2', 'G2', 'G2', 'G2', 'GU', 'GU', 'GU', 'GU', 'GU', 'GU', 'GU', 'GU', 'GU', 'GU', 'GU', 'GU', 'GU', 'GU', 'H4', 'H4', 'HQ', 'HQ', 'HQ', 'HQ', 'LT', 'LT', 'S5', 'S5', 'SY', 'SY', 'UY', 'UY', 'UY', 'UY', 'UY', 'UY', 'UY', 'UY', 'UY', 'UY', 'UY', 'UY', 'UY', 'UY', 'YC', 'YC', 'YC', 'YC', '2F', '2F', '2F', '2F', '2F', '2F', '2F', '2F', '2F', '5N', '5N', 'BL', 'BL', 'BL', 'BL', 'BL', 'BL', 'BL', 'BL', 'BL', 'CU', 'CU', 'CU', 'CU', 'CU', 'CU', 'GC', 'GC', 'GC', 'GC', 'GC', 'GC', 'GC', 'GC', 'GC', 'GC', 'GC', 'K4', 'K4', 'K4', 'K4', 'K4', 'K4', 'K4', 'K4', 'K4', 'K4', 'K4', 'K4', 'K4', 'ZF', 'ZF', 'ZF', 'ZF', 'ZF', 'ZF', 'ZF', 'ZF', 'ZF', 'ZF', 'ZF', 'ZF', 'ZF', 'ZF', 'ZF', 'ZF', 'ZF', 'ZF', 'ZF', 'ZF', 'ZF', 'ZF', 'ZF', 'ZF', 'ZF', 'ZF', 'ZF']\n",
      "TEST:  ['FJ', 'FJ', 'FJ', 'FJ', 'FJ', 'FJ', 'FJ', 'FJ', 'FJ', 'FJ', 'FJ', 'FJ', 'FJ', 'FJ', 'FJ', 'GD', 'GD', 'GD', 'GD', 'GD', 'GV', 'GV', 'GV', 'GV', 'GV', 'GV', 'GV', 'GV', 'GV', 'GV', 'GV', 'LC', 'MV', 'PQ', 'PQ', 'XF', 'XF', 'XF', 'XF', 'XF', 'XF', 'XF', 'XF', 'XF', 'XF', 'XF', 'XF', 'XF', 'XF', 'XF', 'XF', 'XF', 'XF', 'XF', 'XF', 'XF', 'XF', 'XF', 'XF', 'XF', 'XF', 'XF', 'XF', 'XF', 'XF', 'XF', 'XF', 'XF', 'XF', 'XF', 'XF', 'XF', 'XF', 'XF', 'XF', 'XF', 'XF', 'XF', 'XF', 'YF', 'YF']\n",
      "TRAIN:  ['4Z', '4Z', '4Z', '4Z', '4Z', '4Z', '4Z', '4Z', '4Z', '4Z', '4Z', '4Z', '4Z', '4Z', '4Z', '4Z', 'BT', 'BT', 'BT', 'BT', 'BT', 'BT', 'BT', 'BT', 'BT', 'BT', 'BT', 'BT', 'BT', 'BT', 'BT', 'BT', 'BT', 'BT', 'C4', 'C4', 'CF', 'CF', 'CF', 'CF', 'CF', 'CF', 'CF', 'CF', 'CF', 'CF', 'CF', 'CF', 'CF', 'CF', 'CF', 'CF', 'CF', 'CF', 'CF', 'CF', 'CF', 'E5', 'E5', 'E5', 'FD', 'FD', 'FD', 'FD', 'FD', 'FD', 'FD', 'FD', 'FD', 'FD', 'FD', 'FD', 'FD', 'FD', 'FD', 'FD', 'FD', 'FD', 'FD', 'FD', 'FD', 'FD', 'FD', 'FD', 'FD', 'FD', 'FD', 'FD', 'FD', 'FD', 'FD', 'FD', 'FD', 'FD', 'FD', 'FD', 'FD', 'FD', 'FD', 'FD', 'FD', 'FD', 'FD', 'FD', 'FD', 'FD', 'FD', 'FJ', 'FJ', 'FJ', 'FJ', 'FJ', 'FJ', 'FJ', 'FJ', 'FJ', 'FJ', 'FJ', 'FJ', 'FJ', 'FJ', 'FJ', 'G2', 'G2', 'G2', 'G2', 'G2', 'G2', 'G2', 'G2', 'G2', 'G2', 'G2', 'G2', 'G2', 'G2', 'G2', 'G2', 'G2', 'G2', 'G2', 'G2', 'G2', 'G2', 'G2', 'G2', 'G2', 'G2', 'G2', 'G2', 'G2', 'G2', 'G2', 'G2', 'G2', 'G2', 'G2', 'G2', 'G2', 'G2', 'G2', 'G2', 'G2', 'G2', 'G2', 'G2', 'G2', 'G2', 'G2', 'G2', 'G2', 'G2', 'G2', 'G2', 'G2', 'G2', 'G2', 'G2', 'GD', 'GD', 'GD', 'GD', 'GD', 'GV', 'GV', 'GV', 'GV', 'GV', 'GV', 'GV', 'GV', 'GV', 'GV', 'GV', 'H4', 'H4', 'HQ', 'HQ', 'HQ', 'HQ', 'LC', 'LT', 'LT', 'MV', 'PQ', 'PQ', 'S5', 'S5', 'UY', 'UY', 'UY', 'UY', 'UY', 'UY', 'UY', 'UY', 'UY', 'UY', 'UY', 'UY', 'UY', 'UY', 'XF', 'XF', 'XF', 'XF', 'XF', 'XF', 'XF', 'XF', 'XF', 'XF', 'XF', 'XF', 'XF', 'XF', 'XF', 'XF', 'XF', 'XF', 'XF', 'XF', 'XF', 'XF', 'XF', 'XF', 'XF', 'XF', 'XF', 'XF', 'XF', 'XF', 'XF', 'XF', 'XF', 'XF', 'XF', 'XF', 'XF', 'XF', 'XF', 'XF', 'XF', 'XF', 'XF', 'XF', 'YC', 'YC', 'YC', 'YC', 'YF', 'YF', '2F', '2F', '2F', '2F', '2F', '2F', '2F', '2F', '2F', '5N', '5N', 'BL', 'BL', 'BL', 'BL', 'BL', 'BL', 'BL', 'BL', 'BL', 'CU', 'CU', 'CU', 'CU', 'CU', 'CU', 'GC', 'GC', 'GC', 'GC', 'GC', 'GC', 'GC', 'GC', 'GC', 'GC', 'GC', 'K4', 'K4', 'K4', 'K4', 'K4', 'K4', 'K4', 'K4', 'K4', 'K4', 'K4', 'K4', 'K4', 'ZF', 'ZF', 'ZF', 'ZF', 'ZF', 'ZF', 'ZF', 'ZF', 'ZF', 'ZF', 'ZF', 'ZF', 'ZF', 'ZF', 'ZF', 'ZF', 'ZF', 'ZF', 'ZF', 'ZF', 'ZF', 'ZF', 'ZF', 'ZF', 'ZF', 'ZF', 'ZF']\n",
      "TEST:  ['DK', 'DK', 'DK', 'DK', 'DK', 'DK', 'DK', 'DK', 'DK', 'DK', 'DK', 'DK', 'DK', 'DK', 'DK', 'DK', 'DK', 'DK', 'DK', 'DK', 'DK', 'DK', 'DK', 'DK', 'DK', 'DK', 'DK', 'DK', 'DK', 'DK', 'DK', 'DK', 'DK', 'DK', 'DK', 'E7', 'E7', 'E7', 'E7', 'E7', 'E7', 'E7', 'E7', 'E7', 'E7', 'E7', 'E7', 'E7', 'E7', 'E7', 'E7', 'E7', 'E7', 'E7', 'E7', 'E7', 'FT', 'FT', 'GU', 'GU', 'GU', 'GU', 'GU', 'GU', 'GU', 'GU', 'GU', 'GU', 'GU', 'GU', 'GU', 'GU', 'SY', 'SY']\n"
     ]
    }
   ],
   "source": [
    "# Check fold stratification\n",
    "fold_dirs = \"src/splits/survival/\"\n",
    "for i in range(5):\n",
    "    fold_dir_split = os.path.join(fold_dirs, f'TCGA_BLCA_overall_survival_k={i}')\n",
    "    fold_dir_split_train = os.path.join(fold_dir_split, 'train.csv')\n",
    "    fold_dir_split_test = os.path.join(fold_dir_split, 'test.csv')\n",
    "    tissue_ss_train = get_tissue_source_sites(fold_dir_split_train)\n",
    "    tissue_ss_test = get_tissue_source_sites(fold_dir_split_test)\n",
    "    assert set(tissue_ss_train).isdisjoint(tissue_ss_test), \"The lists have an intersection\"\n"
   ]
  },
  {
   "cell_type": "markdown",
   "metadata": {},
   "source": [
    "# Results 5-fold cross-validation MMP & SurvPath"
   ]
  },
  {
   "cell_type": "code",
   "execution_count": 2,
   "metadata": {},
   "outputs": [],
   "source": [
    "def get_c_index_test(file_dir):\n",
    "    with open(file_dir, 'r') as file:\n",
    "        csv_reader = csv.DictReader(file)\n",
    "        data = [row for row in csv_reader]\n",
    "    return float(data[0][\"c_index_test\"])"
   ]
  },
  {
   "cell_type": "code",
   "execution_count": 3,
   "metadata": {},
   "outputs": [
    {
     "name": "stdout",
     "output_type": "stream",
     "text": [
      "['src/results/rna_clean/setting1/k=0/TCGA_BRCA_overall_survival::MIL_default::feats_h5::24-11-19-11-14-24/summary.csv']\n",
      "['src/results/rna_clean/setting1/k=1/TCGA_BRCA_overall_survival::MIL_default::feats_h5::24-11-16-14-43-49/summary.csv']\n",
      "['src/results/rna_clean/setting1/k=2/TCGA_BRCA_overall_survival::MIL_default::feats_h5::24-11-16-15-28-27/summary.csv']\n",
      "['src/results/rna_clean/setting1/k=3/TCGA_BRCA_overall_survival::MIL_default::feats_h5::24-11-16-16-12-27/summary.csv']\n",
      "['src/results/rna_clean/setting1/k=4/TCGA_BRCA_overall_survival::MIL_default::feats_h5::24-11-16-16-58-00/summary.csv']\n",
      "[0.6580756013745704, 0.7041251778093883, 0.7525065963060686, 0.6674008810572687, 0.7075399847677075]\n",
      "MEAN:  0.6979296482630007\n",
      "STD:  0.033555139970730494\n"
     ]
    }
   ],
   "source": [
    "# Own \n",
    "result_dir = \"src/results/rna_clean/\"\n",
    "c_index_test = []\n",
    "for i in range(5):\n",
    "    fold_dir = sorted(glob.glob(os.path.join(result_dir, f\"setting1/k={i}/TCGA_BRCA_overall_survival::MIL_default::feats_h5::*/summary.csv\")))\n",
    "    print(fold_dir)\n",
    "    c_index_test.append(get_c_index_test(fold_dir[0]))\n",
    "\n",
    "print(c_index_test)\n",
    "c_index_test = np.array(c_index_test)\n",
    "mean = np.mean(c_index_test)\n",
    "std = np.std(c_index_test)\n",
    "\n",
    "print(\"MEAN: \", mean)\n",
    "print(\"STD: \", std)\n"
   ]
  },
  {
   "cell_type": "code",
   "execution_count": 4,
   "metadata": {},
   "outputs": [
    {
     "name": "stdout",
     "output_type": "stream",
     "text": [
      "['src/results/rna_clean_pan/setting1/k=0/TCGA_BRCA_overall_survival::MIL_default::feats_h5::24-11-19-10-47-51/summary.csv']\n",
      "['src/results/rna_clean_pan/setting1/k=1/TCGA_BRCA_overall_survival::MIL_default::feats_h5::24-11-16-11-00-25/summary.csv']\n",
      "['src/results/rna_clean_pan/setting1/k=2/TCGA_BRCA_overall_survival::MIL_default::feats_h5::24-11-16-11-45-11/summary.csv']\n",
      "['src/results/rna_clean_pan/setting1/k=3/TCGA_BRCA_overall_survival::MIL_default::feats_h5::24-11-16-12-29-42/summary.csv']\n",
      "['src/results/rna_clean_pan/setting1/k=4/TCGA_BRCA_overall_survival::MIL_default::feats_h5::24-11-16-13-15-41/summary.csv']\n",
      "[0.6580756013745704, 0.7041251778093883, 0.7525065963060686, 0.6674008810572687, 0.7075399847677075]\n",
      "MEAN:  0.6979296482630007\n",
      "STD:  0.033555139970730494\n"
     ]
    }
   ],
   "source": [
    "# Own \n",
    "result_dir = \"src/results/rna_clean_pan/\"\n",
    "c_index_test = []\n",
    "for i in range(5):\n",
    "    fold_dir = sorted(glob.glob(os.path.join(result_dir, f\"setting1/k={i}/TCGA_BRCA_overall_survival::MIL_default::feats_h5::*/summary.csv\")))\n",
    "    print(fold_dir)\n",
    "    c_index_test.append(get_c_index_test(fold_dir[0]))\n",
    "\n",
    "print(c_index_test)\n",
    "c_index_test = np.array(c_index_test)\n",
    "mean = np.mean(c_index_test)\n",
    "std = np.std(c_index_test)\n",
    "\n",
    "print(\"MEAN: \", mean)\n",
    "print(\"STD: \", std)"
   ]
  },
  {
   "cell_type": "code",
   "execution_count": 7,
   "metadata": {},
   "outputs": [
    {
     "name": "stdout",
     "output_type": "stream",
     "text": [
      "['src/results/rna_clean_theirs/k=0/TCGA_BRCA_overall_survival::PANTHER_default::feats_h5::24-11-13-09-58-29/summary.csv', 'src/results/rna_clean_theirs/k=0/TCGA_BRCA_overall_survival::PANTHER_default::feats_h5::24-11-13-13-51-25/summary.csv', 'src/results/rna_clean_theirs/k=0/TCGA_BRCA_overall_survival::PANTHER_default::feats_h5::24-11-14-00-13-32/summary.csv']\n",
      "['src/results/rna_clean_theirs/k=1/TCGA_BRCA_overall_survival::PANTHER_default::feats_h5::24-11-13-10-21-17/summary.csv', 'src/results/rna_clean_theirs/k=1/TCGA_BRCA_overall_survival::PANTHER_default::feats_h5::24-11-13-14-01-49/summary.csv', 'src/results/rna_clean_theirs/k=1/TCGA_BRCA_overall_survival::PANTHER_default::feats_h5::24-11-14-00-32-49/summary.csv']\n",
      "['src/results/rna_clean_theirs/k=2/TCGA_BRCA_overall_survival::PANTHER_default::feats_h5::24-11-13-10-43-55/summary.csv', 'src/results/rna_clean_theirs/k=2/TCGA_BRCA_overall_survival::PANTHER_default::feats_h5::24-11-13-14-12-21/summary.csv', 'src/results/rna_clean_theirs/k=2/TCGA_BRCA_overall_survival::PANTHER_default::feats_h5::24-11-14-00-52-09/summary.csv']\n",
      "['src/results/rna_clean_theirs/k=3/TCGA_BRCA_overall_survival::PANTHER_default::feats_h5::24-11-13-11-06-17/summary.csv', 'src/results/rna_clean_theirs/k=3/TCGA_BRCA_overall_survival::PANTHER_default::feats_h5::24-11-13-14-22-48/summary.csv', 'src/results/rna_clean_theirs/k=3/TCGA_BRCA_overall_survival::PANTHER_default::feats_h5::24-11-14-01-11-03/summary.csv']\n",
      "['src/results/rna_clean_theirs/k=4/TCGA_BRCA_overall_survival::PANTHER_default::feats_h5::24-11-13-11-29-09/summary.csv', 'src/results/rna_clean_theirs/k=4/TCGA_BRCA_overall_survival::PANTHER_default::feats_h5::24-11-13-14-33-14/summary.csv', 'src/results/rna_clean_theirs/k=4/TCGA_BRCA_overall_survival::PANTHER_default::feats_h5::24-11-14-01-30-46/summary.csv']\n",
      "[0.5687285223367697, 0.6699857752489331, 0.6891820580474934, 0.5088105726872246, 0.6092916984006093]\n",
      "MEAN:  0.6091997253442061\n",
      "STD:  0.06604245015257727\n"
     ]
    }
   ],
   "source": [
    "# Their \n",
    "result_dir = \"src/results/rna_clean_theirs/\"\n",
    "c_index_test = []\n",
    "for i in range(5):\n",
    "    fold_dir = sorted(glob.glob(os.path.join(result_dir, f\"k={i}/TCGA_BRCA_overall_survival::PANTHER_default::feats_h5::*/summary.csv\")))\n",
    "    print(fold_dir)\n",
    "    c_index_test.append(get_c_index_test(fold_dir[2]))\n",
    "\n",
    "print(c_index_test)\n",
    "c_index_test = np.array(c_index_test)\n",
    "mean = np.mean(c_index_test)\n",
    "std = np.std(c_index_test)\n",
    "\n",
    "print(\"MEAN: \", mean)\n",
    "print(\"STD: \", std)"
   ]
  }
 ],
 "metadata": {
  "kernelspec": {
   "display_name": "mmp",
   "language": "python",
   "name": "python3"
  },
  "language_info": {
   "codemirror_mode": {
    "name": "ipython",
    "version": 3
   },
   "file_extension": ".py",
   "mimetype": "text/x-python",
   "name": "python",
   "nbconvert_exporter": "python",
   "pygments_lexer": "ipython3",
   "version": "3.9.19"
  }
 },
 "nbformat": 4,
 "nbformat_minor": 2
}
